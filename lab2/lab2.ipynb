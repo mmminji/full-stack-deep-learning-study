{
 "cells": [
  {
   "cell_type": "code",
   "execution_count": 4,
   "source": [
    "!python training/run_experiment.py --max_epochs=5 --gpus=1 --data_class=MNIST --model_class=CNN"
   ],
   "outputs": [
    {
     "output_type": "stream",
     "name": "stdout",
     "text": [
      "--------------------------------------------------------------------------------\n",
      "DATALOADER:0 TEST RESULTS\n",
      "{'test_acc': tensor(0.9878, device='cuda:0')}\n",
      "--------------------------------------------------------------------------------\n"
     ]
    },
    {
     "output_type": "stream",
     "name": "stderr",
     "text": [
      "GPU available: True, used: True\n",
      "TPU available: None, using: 0 TPU cores\n",
      "LOCAL_RANK: 0 - CUDA_VISIBLE_DEVICES: [0,1]\n",
      "\n",
      "   | Name             | Type      | Params\n",
      "------------------------------------------------\n",
      "0  | model            | CNN       | 1.6 M \n",
      "1  | model.conv1      | ConvBlock | 640   \n",
      "2  | model.conv1.conv | Conv2d    | 640   \n",
      "3  | model.conv1.relu | ReLU      | 0     \n",
      "4  | model.conv2      | ConvBlock | 36.9 K\n",
      "5  | model.conv2.conv | Conv2d    | 36.9 K\n",
      "6  | model.conv2.relu | ReLU      | 0     \n",
      "7  | model.dropout    | Dropout   | 0     \n",
      "8  | model.max_pool   | MaxPool2d | 0     \n",
      "9  | model.fc1        | Linear    | 1.6 M \n",
      "10 | model.fc2        | Linear    | 1.3 K \n",
      "11 | train_acc        | Accuracy  | 0     \n",
      "12 | val_acc          | Accuracy  | 0     \n",
      "13 | test_acc         | Accuracy  | 0     \n",
      "------------------------------------------------\n",
      "1.6 M     Trainable params\n",
      "0         Non-trainable params\n",
      "1.6 M     Total params\n"
     ]
    }
   ],
   "metadata": {}
  },
  {
   "cell_type": "code",
   "execution_count": 7,
   "source": [
    "!python training/run_experiment.py --max_epochs=5 --gpus=1 --data_class=EMNIST --model_class=CNN --overfit_batches=2\r\n",
    "# overfit_batch : 2 batches a epoch, if less than 1, training dataset percentage"
   ],
   "outputs": [
    {
     "output_type": "stream",
     "name": "stdout",
     "text": [
      "--------------------------------------------------------------------------------\n",
      "DATALOADER:0 TEST RESULTS\n",
      "{'test_acc': tensor(0.4453, device='cuda:0')}\n",
      "--------------------------------------------------------------------------------\n"
     ]
    },
    {
     "output_type": "stream",
     "name": "stderr",
     "text": [
      "GPU available: True, used: True\n",
      "TPU available: None, using: 0 TPU cores\n",
      "LOCAL_RANK: 0 - CUDA_VISIBLE_DEVICES: [0,1]\n",
      "\n",
      "   | Name             | Type      | Params\n",
      "------------------------------------------------\n",
      "0  | model            | CNN       | 1.7 M \n",
      "1  | model.conv1      | ConvBlock | 640   \n",
      "2  | model.conv1.conv | Conv2d    | 640   \n",
      "3  | model.conv1.relu | ReLU      | 0     \n",
      "4  | model.conv2      | ConvBlock | 36.9 K\n",
      "5  | model.conv2.conv | Conv2d    | 36.9 K\n",
      "6  | model.conv2.relu | ReLU      | 0     \n",
      "7  | model.dropout    | Dropout   | 0     \n",
      "8  | model.max_pool   | MaxPool2d | 0     \n",
      "9  | model.fc1        | Linear    | 1.6 M \n",
      "10 | model.fc2        | Linear    | 10.7 K\n",
      "11 | train_acc        | Accuracy  | 0     \n",
      "12 | val_acc          | Accuracy  | 0     \n",
      "13 | test_acc         | Accuracy  | 0     \n",
      "------------------------------------------------\n",
      "1.7 M     Trainable params\n",
      "0         Non-trainable params\n",
      "1.7 M     Total params\n",
      "C:\\Users\\a\\anaconda3\\envs\\fsdl\\lib\\site-packages\\pytorch_lightning\\utilities\\distributed.py:49: UserWarning: You requested to overfit but enabled test/val dataloader shuffling. We are turning it off for you.\n",
      "  warnings.warn(*args, **kwargs)\n",
      "C:\\Users\\a\\anaconda3\\envs\\fsdl\\lib\\site-packages\\pytorch_lightning\\utilities\\distributed.py:49: UserWarning: You requested to overfit but enabled training dataloader shuffling. We are turning it off for you.\n",
      "  warnings.warn(*args, **kwargs)\n"
     ]
    }
   ],
   "metadata": {}
  },
  {
   "cell_type": "code",
   "execution_count": 6,
   "source": [
    "!python training/run_experiment.py --max_epochs=50 --gpus=1 --data_class=EMNIST --model_class=CNN --overfit_batches=2"
   ],
   "outputs": [
    {
     "output_type": "stream",
     "name": "stdout",
     "text": [
      "--------------------------------------------------------------------------------\n",
      "DATALOADER:0 TEST RESULTS\n",
      "{'test_acc': tensor(1., device='cuda:0')}\n",
      "--------------------------------------------------------------------------------\n"
     ]
    },
    {
     "output_type": "stream",
     "name": "stderr",
     "text": [
      "GPU available: True, used: True\n",
      "TPU available: None, using: 0 TPU cores\n",
      "LOCAL_RANK: 0 - CUDA_VISIBLE_DEVICES: [0,1]\n",
      "\n",
      "   | Name             | Type      | Params\n",
      "------------------------------------------------\n",
      "0  | model            | CNN       | 1.7 M \n",
      "1  | model.conv1      | ConvBlock | 640   \n",
      "2  | model.conv1.conv | Conv2d    | 640   \n",
      "3  | model.conv1.relu | ReLU      | 0     \n",
      "4  | model.conv2      | ConvBlock | 36.9 K\n",
      "5  | model.conv2.conv | Conv2d    | 36.9 K\n",
      "6  | model.conv2.relu | ReLU      | 0     \n",
      "7  | model.dropout    | Dropout   | 0     \n",
      "8  | model.max_pool   | MaxPool2d | 0     \n",
      "9  | model.fc1        | Linear    | 1.6 M \n",
      "10 | model.fc2        | Linear    | 10.7 K\n",
      "11 | train_acc        | Accuracy  | 0     \n",
      "12 | val_acc          | Accuracy  | 0     \n",
      "13 | test_acc         | Accuracy  | 0     \n",
      "------------------------------------------------\n",
      "1.7 M     Trainable params\n",
      "0         Non-trainable params\n",
      "1.7 M     Total params\n",
      "C:\\Users\\a\\anaconda3\\envs\\fsdl\\lib\\site-packages\\pytorch_lightning\\utilities\\distributed.py:49: UserWarning: You requested to overfit but enabled test/val dataloader shuffling. We are turning it off for you.\n",
      "  warnings.warn(*args, **kwargs)\n",
      "C:\\Users\\a\\anaconda3\\envs\\fsdl\\lib\\site-packages\\pytorch_lightning\\utilities\\distributed.py:49: UserWarning: You requested to overfit but enabled training dataloader shuffling. We are turning it off for you.\n",
      "  warnings.warn(*args, **kwargs)\n"
     ]
    }
   ],
   "metadata": {}
  },
  {
   "cell_type": "code",
   "execution_count": null,
   "source": [],
   "outputs": [],
   "metadata": {}
  }
 ],
 "metadata": {
  "orig_nbformat": 4,
  "language_info": {
   "name": "python",
   "version": "3.6.13",
   "mimetype": "text/x-python",
   "codemirror_mode": {
    "name": "ipython",
    "version": 3
   },
   "pygments_lexer": "ipython3",
   "nbconvert_exporter": "python",
   "file_extension": ".py"
  },
  "kernelspec": {
   "name": "python3",
   "display_name": "Python 3.6.13 64-bit (conda)"
  },
  "interpreter": {
   "hash": "eaa46ed45755c4c68b9b1cac48675e90783b9d9fa17c31df0eef0323bed0b7bf"
  }
 },
 "nbformat": 4,
 "nbformat_minor": 2
}