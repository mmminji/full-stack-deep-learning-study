{
 "cells": [
  {
   "cell_type": "code",
   "execution_count": null,
   "source": [
    "!python training/run_experiment.py --wandb --gpus=1 --data_class=IAMLines --model_class=LineCNNTransformer --loss=transformer --lr=0.001 --max_epochs=5  --batch_size=64\r\n",
    "# full-stack-deep-learning-study-lab7_training/brisk-forest-4"
   ],
   "outputs": [],
   "metadata": {}
  },
  {
   "cell_type": "code",
   "execution_count": null,
   "source": [
    "!python training/run_experiment.py --wandb --gpus=1 --data_class=IAMLines --model_class=LineCNNTransformer --loss=transformer --lr=0.001 --max_epochs=100  --batch_size=16\r\n",
    "# full-stack-deep-learning-study/lucky-monkey-2"
   ],
   "outputs": [],
   "metadata": {}
  },
  {
   "cell_type": "code",
   "execution_count": null,
   "source": [
    "!python training/run_experiment.py --gpus=1 --data_class=IAMOriginalAndSyntheticParagraphs --model_class=ResnetTransformer --loss=transformer --batch_size=16 --check_val_every_n_epoch=10 --terminate_on_nan=1 --lr=0.0001 --accumulate_grad_batches=4 --max_epochs=40 --wandb\r\n",
    "# full-stack-deep-learning-study/noble-dew-3"
   ],
   "outputs": [],
   "metadata": {}
  },
  {
   "cell_type": "code",
   "execution_count": null,
   "source": [
    "# !python training/save_best_model.py --entity=minji --trained_data_class=IAMOriginalAndSyntheticParagraphs"
   ],
   "outputs": [],
   "metadata": {}
  }
 ],
 "metadata": {
  "orig_nbformat": 4,
  "language_info": {
   "name": "python",
   "version": "3.6.13",
   "mimetype": "text/x-python",
   "codemirror_mode": {
    "name": "ipython",
    "version": 3
   },
   "pygments_lexer": "ipython3",
   "nbconvert_exporter": "python",
   "file_extension": ".py"
  },
  "kernelspec": {
   "name": "python3",
   "display_name": "Python 3.6.13 64-bit (conda)"
  },
  "interpreter": {
   "hash": "eaa46ed45755c4c68b9b1cac48675e90783b9d9fa17c31df0eef0323bed0b7bf"
  }
 },
 "nbformat": 4,
 "nbformat_minor": 2
}