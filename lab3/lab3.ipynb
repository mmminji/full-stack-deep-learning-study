{
 "cells": [
  {
   "cell_type": "code",
   "execution_count": 13,
   "source": [
    "!python training/run_experiment.py --max_epochs=10 --gpus=1 --data_class=EMNISTLines --min_overlap=0 --max_overlap=0 --model_class=LineCNNSimple --window_width=28 --window_stride=28"
   ],
   "outputs": [],
   "metadata": {}
  },
  {
   "cell_type": "code",
   "execution_count": null,
   "source": [
    "# Changing window_stride & add limit_output_length\r\n",
    "!python training/run_experiment.py --max_epochs=10 --gpus=1 --data_class=EMNISTLines --min_overlap=0 --max_overlap=0 --model_class=LineCNNSimple --window_width=28 --window_stride=20 --limit_output_length"
   ],
   "outputs": [
    {
     "output_type": "stream",
     "name": "stdout",
     "text": [
      "EMNISTLinesDataset loading data from HDF5..."
     ]
    },
    {
     "output_type": "stream",
     "name": "stderr",
     "text": [
      "GPU available: True, used: True\n",
      "TPU available: None, using: 0 TPU cores\n",
      "LOCAL_RANK: 0 - CUDA_VISIBLE_DEVICES: [0,1]\n",
      "\n",
      "   | Name                 | Type          | Params\n",
      "--------------------------------------------------------\n",
      "0  | model                | LineCNNSimple | 1.7 M \n",
      "1  | model.cnn            | CNN           | 1.7 M \n",
      "2  | model.cnn.conv1      | ConvBlock     | 640   \n",
      "3  | model.cnn.conv1.conv | Conv2d        | 640   \n",
      "4  | model.cnn.conv1.relu | ReLU          | 0     \n",
      "5  | model.cnn.conv2      | ConvBlock     | 36.9 K\n",
      "6  | model.cnn.conv2.conv | Conv2d        | 36.9 K\n",
      "7  | model.cnn.conv2.relu | ReLU          | 0     \n",
      "8  | model.cnn.dropout    | Dropout       | 0     \n",
      "9  | model.cnn.max_pool   | MaxPool2d     | 0     \n",
      "10 | model.cnn.fc1        | Linear        | 1.6 M \n",
      "11 | model.cnn.fc2        | Linear        | 10.7 K\n",
      "12 | train_acc            | Accuracy      | 0     \n",
      "13 | val_acc              | Accuracy      | 0     \n",
      "14 | test_acc             | Accuracy      | 0     \n",
      "--------------------------------------------------------\n",
      "1.7 M     Trainable params\n",
      "0         Non-trainable params\n",
      "1.7 M     Total params\n"
     ]
    },
    {
     "output_type": "stream",
     "name": "stdout",
     "text": [
      "\n",
      "EMNISTLinesDataset loading data from HDF5...\n",
      "--------------------------------------------------------------------------------\n",
      "DATALOADER:0 TEST RESULTS\n",
      "{'test_acc': tensor(0.3914, device='cuda:0')}\n",
      "--------------------------------------------------------------------------------\n"
     ]
    }
   ],
   "metadata": {}
  },
  {
   "cell_type": "code",
   "execution_count": null,
   "source": [
    "# Changing overlap\r\n",
    "!python training/run_experiment.py --max_epochs=10 --gpus=1 --num_workers=4 --data_class=EMNISTLines --min_overlap=0.25 --max_overlap=0.25 --model_class=LineCNNSimple --window_width=28 --window_stride=20 --limit_output_length"
   ],
   "outputs": [
    {
     "output_type": "stream",
     "name": "stdout",
     "text": [
      "EMNISTLinesDataset generating data for train...\n",
      "EMNISTLinesDataset generating data for val...\n",
      "EMNISTLinesDataset generating data for test...\n",
      "EMNISTLinesDataset loading data from HDF5...\n",
      "EMNISTLinesDataset loading data from HDF5...\n",
      "--------------------------------------------------------------------------------\n",
      "DATALOADER:0 TEST RESULTS\n",
      "{'test_acc': tensor(0.4950, device='cuda:0')}\n",
      "--------------------------------------------------------------------------------\n"
     ]
    },
    {
     "output_type": "stream",
     "name": "stderr",
     "text": [
      "GPU available: True, used: True\n",
      "TPU available: None, using: 0 TPU cores\n",
      "LOCAL_RANK: 0 - CUDA_VISIBLE_DEVICES: [0,1]\n",
      "\n",
      "   | Name                 | Type          | Params\n",
      "--------------------------------------------------------\n",
      "0  | model                | LineCNNSimple | 1.7 M \n",
      "1  | model.cnn            | CNN           | 1.7 M \n",
      "2  | model.cnn.conv1      | ConvBlock     | 640   \n",
      "3  | model.cnn.conv1.conv | Conv2d        | 640   \n",
      "4  | model.cnn.conv1.relu | ReLU          | 0     \n",
      "5  | model.cnn.conv2      | ConvBlock     | 36.9 K\n",
      "6  | model.cnn.conv2.conv | Conv2d        | 36.9 K\n",
      "7  | model.cnn.conv2.relu | ReLU          | 0     \n",
      "8  | model.cnn.dropout    | Dropout       | 0     \n",
      "9  | model.cnn.max_pool   | MaxPool2d     | 0     \n",
      "10 | model.cnn.fc1        | Linear        | 1.6 M \n",
      "11 | model.cnn.fc2        | Linear        | 10.7 K\n",
      "12 | train_acc            | Accuracy      | 0     \n",
      "13 | val_acc              | Accuracy      | 0     \n",
      "14 | test_acc             | Accuracy      | 0     \n",
      "--------------------------------------------------------\n",
      "1.7 M     Trainable params\n",
      "0         Non-trainable params\n",
      "1.7 M     Total params\n"
     ]
    }
   ],
   "metadata": {}
  },
  {
   "cell_type": "code",
   "execution_count": null,
   "source": [
    "# Variable-length overlap\r\n",
    "!python training/run_experiment.py --max_epochs=10 --gpus=1 --num_workers=4 --data_class=EMNISTLines --min_overlap=0 --max_overlap=0.33 --model_class=LineCNNSimple --window_width=28 --window_stride=20 --limit_output_length"
   ],
   "outputs": [
    {
     "output_type": "stream",
     "name": "stdout",
     "text": [
      "EMNISTLinesDataset loading data from HDF5...\n",
      "EMNISTLinesDataset loading data from HDF5...\n",
      "--------------------------------------------------------------------------------\n",
      "DATALOADER:0 TEST RESULTS\n",
      "{'test_acc': tensor(0.6102, device='cuda:0')}\n",
      "--------------------------------------------------------------------------------\n"
     ]
    },
    {
     "output_type": "stream",
     "name": "stderr",
     "text": [
      "GPU available: True, used: True\n",
      "TPU available: None, using: 0 TPU cores\n",
      "LOCAL_RANK: 0 - CUDA_VISIBLE_DEVICES: [0,1]\n",
      "\n",
      "   | Name                 | Type          | Params\n",
      "--------------------------------------------------------\n",
      "0  | model                | LineCNNSimple | 1.7 M \n",
      "1  | model.cnn            | CNN           | 1.7 M \n",
      "2  | model.cnn.conv1      | ConvBlock     | 640   \n",
      "3  | model.cnn.conv1.conv | Conv2d        | 640   \n",
      "4  | model.cnn.conv1.relu | ReLU          | 0     \n",
      "5  | model.cnn.conv2      | ConvBlock     | 36.9 K\n",
      "6  | model.cnn.conv2.conv | Conv2d        | 36.9 K\n",
      "7  | model.cnn.conv2.relu | ReLU          | 0     \n",
      "8  | model.cnn.dropout    | Dropout       | 0     \n",
      "9  | model.cnn.max_pool   | MaxPool2d     | 0     \n",
      "10 | model.cnn.fc1        | Linear        | 1.6 M \n",
      "11 | model.cnn.fc2        | Linear        | 10.7 K\n",
      "12 | train_acc            | Accuracy      | 0     \n",
      "13 | val_acc              | Accuracy      | 0     \n",
      "14 | test_acc             | Accuracy      | 0     \n",
      "--------------------------------------------------------\n",
      "1.7 M     Trainable params\n",
      "0         Non-trainable params\n",
      "1.7 M     Total params\n"
     ]
    }
   ],
   "metadata": {}
  },
  {
   "cell_type": "code",
   "execution_count": null,
   "source": [
    "# LineCNN: making things more efficient\r\n",
    "!python training/run_experiment.py --max_epochs=10 --gpus=1 --num_workers=4 --data_class=EMNISTLines --min_overlap=0.25 --max_overlap=0.25 --model_class=LineCNN --window_width=28 --window_stride=20 --limit_output_length"
   ],
   "outputs": [
    {
     "output_type": "stream",
     "name": "stdout",
     "text": [
      "EMNISTLinesDataset loading data from HDF5...\n",
      "EMNISTLinesDataset loading data from HDF5...\n",
      "--------------------------------------------------------------------------------\n",
      "DATALOADER:0 TEST RESULTS\n",
      "{'test_acc': tensor(0.5961, device='cuda:0')}\n",
      "--------------------------------------------------------------------------------\n"
     ]
    },
    {
     "output_type": "stream",
     "name": "stderr",
     "text": [
      "GPU available: True, used: True\n",
      "TPU available: None, using: 0 TPU cores\n",
      "LOCAL_RANK: 0 - CUDA_VISIBLE_DEVICES: [0,1]\n",
      "\n",
      "   | Name               | Type       | Params\n",
      "---------------------------------------------------\n",
      "0  | model              | LineCNN    | 1.2 M \n",
      "1  | model.convs        | Sequential | 895 K \n",
      "2  | model.convs.0      | ConvBlock  | 320   \n",
      "3  | model.convs.0.conv | Conv2d     | 320   \n",
      "4  | model.convs.0.relu | ReLU       | 0     \n",
      "5  | model.convs.1      | ConvBlock  | 9.2 K \n",
      "6  | model.convs.1.conv | Conv2d     | 9.2 K \n",
      "7  | model.convs.1.relu | ReLU       | 0     \n",
      "8  | model.convs.2      | ConvBlock  | 9.2 K \n",
      "9  | model.convs.2.conv | Conv2d     | 9.2 K \n",
      "10 | model.convs.2.relu | ReLU       | 0     \n",
      "11 | model.convs.3      | ConvBlock  | 9.2 K \n",
      "12 | model.convs.3.conv | Conv2d     | 9.2 K \n",
      "13 | model.convs.3.relu | ReLU       | 0     \n",
      "14 | model.convs.4      | ConvBlock  | 18.5 K\n",
      "15 | model.convs.4.conv | Conv2d     | 18.5 K\n",
      "16 | model.convs.4.relu | ReLU       | 0     \n",
      "17 | model.convs.5      | ConvBlock  | 36.9 K\n",
      "18 | model.convs.5.conv | Conv2d     | 36.9 K\n",
      "19 | model.convs.5.relu | ReLU       | 0     \n",
      "20 | model.convs.6      | ConvBlock  | 73.9 K\n",
      "21 | model.convs.6.conv | Conv2d     | 73.9 K\n",
      "22 | model.convs.6.relu | ReLU       | 0     \n",
      "23 | model.convs.7      | ConvBlock  | 147 K \n",
      "24 | model.convs.7.conv | Conv2d     | 147 K \n",
      "25 | model.convs.7.relu | ReLU       | 0     \n",
      "26 | model.convs.8      | ConvBlock  | 590 K \n",
      "27 | model.convs.8.conv | Conv2d     | 590 K \n",
      "28 | model.convs.8.relu | ReLU       | 0     \n",
      "29 | model.fc1          | Linear     | 262 K \n",
      "30 | model.dropout      | Dropout    | 0     \n",
      "31 | model.fc2          | Linear     | 42.6 K\n",
      "32 | train_acc          | Accuracy   | 0     \n",
      "33 | val_acc            | Accuracy   | 0     \n",
      "34 | test_acc           | Accuracy   | 0     \n",
      "---------------------------------------------------\n",
      "1.2 M     Trainable params\n",
      "0         Non-trainable params\n",
      "1.2 M     Total params\n"
     ]
    }
   ],
   "metadata": {}
  },
  {
   "cell_type": "code",
   "execution_count": 12,
   "source": [
    "# CTC Loss(without pl.metrics.Accuracy in CTCLitModel)\r\n",
    "!python training/run_experiment.py --max_epochs=10 --gpus=1 --num_workers=4 --data_class=EMNISTLines --min_overlap=0.25 --max_overlap=0.25 --model_class=LineCNN --window_width=28 --window_stride=20 --loss=ctc"
   ],
   "outputs": [
    {
     "output_type": "stream",
     "name": "stdout",
     "text": [
      "EMNISTLinesDataset loading data from HDF5...\n",
      "EMNISTLinesDataset loading data from HDF5...\n",
      "--------------------------------------------------------------------------------\n",
      "DATALOADER:0 TEST RESULTS\n",
      "{'test_acc': tensor(0., device='cuda:0'),\n",
      " 'test_cer': tensor(0.0806, device='cuda:0')}\n",
      "--------------------------------------------------------------------------------\n"
     ]
    },
    {
     "output_type": "stream",
     "name": "stderr",
     "text": [
      "GPU available: True, used: True\n",
      "TPU available: None, using: 0 TPU cores\n",
      "LOCAL_RANK: 0 - CUDA_VISIBLE_DEVICES: [0,1]\n",
      "\n",
      "   | Name               | Type               | Params\n",
      "-----------------------------------------------------------\n",
      "0  | model              | LineCNN            | 1.2 M \n",
      "1  | model.convs        | Sequential         | 895 K \n",
      "2  | model.convs.0      | ConvBlock          | 320   \n",
      "3  | model.convs.0.conv | Conv2d             | 320   \n",
      "4  | model.convs.0.relu | ReLU               | 0     \n",
      "5  | model.convs.1      | ConvBlock          | 9.2 K \n",
      "6  | model.convs.1.conv | Conv2d             | 9.2 K \n",
      "7  | model.convs.1.relu | ReLU               | 0     \n",
      "8  | model.convs.2      | ConvBlock          | 9.2 K \n",
      "9  | model.convs.2.conv | Conv2d             | 9.2 K \n",
      "10 | model.convs.2.relu | ReLU               | 0     \n",
      "11 | model.convs.3      | ConvBlock          | 9.2 K \n",
      "12 | model.convs.3.conv | Conv2d             | 9.2 K \n",
      "13 | model.convs.3.relu | ReLU               | 0     \n",
      "14 | model.convs.4      | ConvBlock          | 18.5 K\n",
      "15 | model.convs.4.conv | Conv2d             | 18.5 K\n",
      "16 | model.convs.4.relu | ReLU               | 0     \n",
      "17 | model.convs.5      | ConvBlock          | 36.9 K\n",
      "18 | model.convs.5.conv | Conv2d             | 36.9 K\n",
      "19 | model.convs.5.relu | ReLU               | 0     \n",
      "20 | model.convs.6      | ConvBlock          | 73.9 K\n",
      "21 | model.convs.6.conv | Conv2d             | 73.9 K\n",
      "22 | model.convs.6.relu | ReLU               | 0     \n",
      "23 | model.convs.7      | ConvBlock          | 147 K \n",
      "24 | model.convs.7.conv | Conv2d             | 147 K \n",
      "25 | model.convs.7.relu | ReLU               | 0     \n",
      "26 | model.convs.8      | ConvBlock          | 590 K \n",
      "27 | model.convs.8.conv | Conv2d             | 590 K \n",
      "28 | model.convs.8.relu | ReLU               | 0     \n",
      "29 | model.fc1          | Linear             | 262 K \n",
      "30 | model.dropout      | Dropout            | 0     \n",
      "31 | model.fc2          | Linear             | 42.6 K\n",
      "32 | train_acc          | Accuracy           | 0     \n",
      "33 | val_acc            | Accuracy           | 0     \n",
      "34 | test_acc           | Accuracy           | 0     \n",
      "35 | loss_fn            | CTCLoss            | 0     \n",
      "36 | val_cer            | CharacterErrorRate | 0     \n",
      "37 | test_cer           | CharacterErrorRate | 0     \n",
      "-----------------------------------------------------------\n",
      "1.2 M     Trainable params\n",
      "0         Non-trainable params\n",
      "1.2 M     Total params\n"
     ]
    }
   ],
   "metadata": {}
  },
  {
   "cell_type": "code",
   "execution_count": null,
   "source": [
    "# CTC Loss\r\n",
    "!python training/run_experiment.py --max_epochs=10 --gpus=1 --num_workers=4 --data_class=EMNISTLines --min_overlap=0.25 --max_overlap=0.25 --model_class=LineCNN --window_width=28 --window_stride=20 --loss=ctc"
   ],
   "outputs": [
    {
     "output_type": "stream",
     "name": "stdout",
     "text": [
      "EMNISTLinesDataset loading data from HDF5...\n",
      "EMNISTLinesDataset loading data from HDF5..."
     ]
    },
    {
     "output_type": "stream",
     "name": "stderr",
     "text": [
      "GPU available: True, used: True\n",
      "TPU available: None, using: 0 TPU cores\n",
      "LOCAL_RANK: 0 - CUDA_VISIBLE_DEVICES: [0,1]\n",
      "\n",
      "   | Name               | Type               | Params\n",
      "-----------------------------------------------------------\n",
      "0  | model              | LineCNN            | 1.2 M \n",
      "1  | model.convs        | Sequential         | 895 K \n",
      "2  | model.convs.0      | ConvBlock          | 320   \n",
      "3  | model.convs.0.conv | Conv2d             | 320   \n",
      "4  | model.convs.0.relu | ReLU               | 0     \n",
      "5  | model.convs.1      | ConvBlock          | 9.2 K \n",
      "6  | model.convs.1.conv | Conv2d             | 9.2 K \n",
      "7  | model.convs.1.relu | ReLU               | 0     \n",
      "8  | model.convs.2      | ConvBlock          | 9.2 K \n",
      "9  | model.convs.2.conv | Conv2d             | 9.2 K \n",
      "10 | model.convs.2.relu | ReLU               | 0     \n",
      "11 | model.convs.3      | ConvBlock          | 9.2 K \n",
      "12 | model.convs.3.conv | Conv2d             | 9.2 K \n",
      "13 | model.convs.3.relu | ReLU               | 0     \n",
      "14 | model.convs.4      | ConvBlock          | 18.5 K\n",
      "15 | model.convs.4.conv | Conv2d             | 18.5 K\n",
      "16 | model.convs.4.relu | ReLU               | 0     \n",
      "17 | model.convs.5      | ConvBlock          | 36.9 K\n",
      "18 | model.convs.5.conv | Conv2d             | 36.9 K\n",
      "19 | model.convs.5.relu | ReLU               | 0     \n",
      "20 | model.convs.6      | ConvBlock          | 73.9 K\n",
      "21 | model.convs.6.conv | Conv2d             | 73.9 K\n",
      "22 | model.convs.6.relu | ReLU               | 0     \n",
      "23 | model.convs.7      | ConvBlock          | 147 K \n",
      "24 | model.convs.7.conv | Conv2d             | 147 K \n",
      "25 | model.convs.7.relu | ReLU               | 0     \n",
      "26 | model.convs.8      | ConvBlock          | 590 K \n",
      "27 | model.convs.8.conv | Conv2d             | 590 K \n",
      "28 | model.convs.8.relu | ReLU               | 0     \n",
      "29 | model.fc1          | Linear             | 262 K \n",
      "30 | model.dropout      | Dropout            | 0     \n",
      "31 | model.fc2          | Linear             | 42.6 K\n",
      "32 | train_acc          | Accuracy           | 0     \n",
      "33 | val_acc            | Accuracy           | 0     \n",
      "34 | test_acc           | Accuracy           | 0     \n",
      "35 | loss_fn            | CTCLoss            | 0     \n"
     ]
    },
    {
     "output_type": "stream",
     "name": "stdout",
     "text": [
      "\n",
      "--------------------------------------------------------------------------------\n",
      "DATALOADER:0 TEST RESULTS\n",
      "{'test_acc': tensor(0.8964, device='cuda:0'),\n",
      " 'test_cer': tensor(0.0786, device='cuda:0')}\n",
      "--------------------------------------------------------------------------------\n"
     ]
    },
    {
     "output_type": "stream",
     "name": "stderr",
     "text": [
      "36 | val_cer            | CharacterErrorRate | 0     \n",
      "37 | test_cer           | CharacterErrorRate | 0     \n",
      "-----------------------------------------------------------\n",
      "1.2 M     Trainable params\n",
      "0         Non-trainable params\n",
      "1.2 M     Total params\n"
     ]
    }
   ],
   "metadata": {}
  },
  {
   "cell_type": "code",
   "execution_count": null,
   "source": [
    "# Add LSTM\r\n",
    "!python training/run_experiment.py --max_epochs=10 --gpus=1 --num_workers=4 --data_class=EMNISTLines --min_overlap=0 --max_overlap=0.33 --model_class=LineCNNLSTM --window_width=28 --window_stride=18 --loss=ctc"
   ],
   "outputs": [
    {
     "output_type": "stream",
     "name": "stdout",
     "text": [
      "EMNISTLinesDataset loading data from HDF5...\n",
      "EMNISTLinesDataset loading data from HDF5...\n",
      "--------------------------------------------------------------------------------\n",
      "DATALOADER:0 TEST RESULTS\n",
      "{'test_acc': tensor(0.9294, device='cuda:0'),\n",
      " 'test_cer': tensor(0.0633, device='cuda:0')}\n",
      "--------------------------------------------------------------------------------\n"
     ]
    },
    {
     "output_type": "stream",
     "name": "stderr",
     "text": [
      "C:\\Users\\a\\anaconda3\\envs\\fsdl\\lib\\site-packages\\torch\\nn\\modules\\rnn.py:61: UserWarning: dropout option adds dropout after all but last recurrent layer, so non-zero dropout expects num_layers greater than 1, but got dropout=0.2 and num_layers=1\n",
      "  \"num_layers={}\".format(dropout, num_layers))\n",
      "GPU available: True, used: True\n",
      "TPU available: None, using: 0 TPU cores\n",
      "LOCAL_RANK: 0 - CUDA_VISIBLE_DEVICES: [0,1]\n",
      "\n",
      "   | Name                        | Type               | Params\n",
      "--------------------------------------------------------------------\n",
      "0  | model                       | LineCNNLSTM        | 3.7 M \n",
      "1  | model.line_cnn              | LineCNN            | 1.2 M \n",
      "2  | model.line_cnn.convs        | Sequential         | 895 K \n",
      "3  | model.line_cnn.convs.0      | ConvBlock          | 320   \n",
      "4  | model.line_cnn.convs.0.conv | Conv2d             | 320   \n",
      "5  | model.line_cnn.convs.0.relu | ReLU               | 0     \n",
      "6  | model.line_cnn.convs.1      | ConvBlock          | 9.2 K \n",
      "7  | model.line_cnn.convs.1.conv | Conv2d             | 9.2 K \n",
      "8  | model.line_cnn.convs.1.relu | ReLU               | 0     \n",
      "9  | model.line_cnn.convs.2      | ConvBlock          | 9.2 K \n",
      "10 | model.line_cnn.convs.2.conv | Conv2d             | 9.2 K \n",
      "11 | model.line_cnn.convs.2.relu | ReLU               | 0     \n",
      "12 | model.line_cnn.convs.3      | ConvBlock          | 9.2 K \n",
      "13 | model.line_cnn.convs.3.conv | Conv2d             | 9.2 K \n",
      "14 | model.line_cnn.convs.3.relu | ReLU               | 0     \n",
      "15 | model.line_cnn.convs.4      | ConvBlock          | 18.5 K\n",
      "16 | model.line_cnn.convs.4.conv | Conv2d             | 18.5 K\n",
      "17 | model.line_cnn.convs.4.relu | ReLU               | 0     \n",
      "18 | model.line_cnn.convs.5      | ConvBlock          | 36.9 K\n",
      "19 | model.line_cnn.convs.5.conv | Conv2d             | 36.9 K\n",
      "20 | model.line_cnn.convs.5.relu | ReLU               | 0     \n",
      "21 | model.line_cnn.convs.6      | ConvBlock          | 73.9 K\n",
      "22 | model.line_cnn.convs.6.conv | Conv2d             | 73.9 K\n",
      "23 | model.line_cnn.convs.6.relu | ReLU               | 0     \n",
      "24 | model.line_cnn.convs.7      | ConvBlock          | 147 K \n",
      "25 | model.line_cnn.convs.7.conv | Conv2d             | 147 K \n",
      "26 | model.line_cnn.convs.7.relu | ReLU               | 0     \n",
      "27 | model.line_cnn.convs.8      | ConvBlock          | 590 K \n",
      "28 | model.line_cnn.convs.8.conv | Conv2d             | 590 K \n",
      "29 | model.line_cnn.convs.8.relu | ReLU               | 0     \n",
      "30 | model.line_cnn.fc1          | Linear             | 262 K \n",
      "31 | model.line_cnn.dropout      | Dropout            | 0     \n",
      "32 | model.line_cnn.fc2          | Linear             | 42.6 K\n",
      "33 | model.lstm                  | LSTM               | 2.4 M \n",
      "34 | model.fc                    | Linear             | 42.6 K\n",
      "35 | train_acc                   | Accuracy           | 0     \n",
      "36 | val_acc                     | Accuracy           | 0     \n",
      "37 | test_acc                    | Accuracy           | 0     \n",
      "38 | loss_fn                     | CTCLoss            | 0     \n",
      "39 | val_cer                     | CharacterErrorRate | 0     \n",
      "40 | test_cer                    | CharacterErrorRate | 0     \n",
      "--------------------------------------------------------------------\n",
      "3.7 M     Trainable params\n",
      "0         Non-trainable params\n",
      "3.7 M     Total params\n"
     ]
    }
   ],
   "metadata": {}
  },
  {
   "cell_type": "code",
   "execution_count": null,
   "source": [],
   "outputs": [],
   "metadata": {}
  },
  {
   "cell_type": "code",
   "execution_count": null,
   "source": [],
   "outputs": [],
   "metadata": {}
  }
 ],
 "metadata": {
  "orig_nbformat": 4,
  "language_info": {
   "name": "python",
   "version": "3.6.13",
   "mimetype": "text/x-python",
   "codemirror_mode": {
    "name": "ipython",
    "version": 3
   },
   "pygments_lexer": "ipython3",
   "nbconvert_exporter": "python",
   "file_extension": ".py"
  },
  "kernelspec": {
   "name": "python3",
   "display_name": "Python 3.6.13 64-bit (conda)"
  },
  "interpreter": {
   "hash": "eaa46ed45755c4c68b9b1cac48675e90783b9d9fa17c31df0eef0323bed0b7bf"
  }
 },
 "nbformat": 4,
 "nbformat_minor": 2
}