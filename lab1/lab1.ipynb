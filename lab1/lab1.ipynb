{
 "cells": [
  {
   "cell_type": "code",
   "execution_count": 5,
   "source": [
    "!python training/run_experiment.py --max_epochs=3"
   ],
   "outputs": [
    {
     "output_type": "stream",
     "name": "stdout",
     "text": [
      "--------------------------------------------------------------------------------\n",
      "DATALOADER:0 TEST RESULTS\n",
      "{'test_acc': tensor(0.9741)}\n",
      "--------------------------------------------------------------------------------\n"
     ]
    },
    {
     "output_type": "stream",
     "name": "stderr",
     "text": [
      "GPU available: True, used: False\n",
      "TPU available: None, using: 0 TPU cores\n",
      "C:\\Users\\a\\anaconda3\\envs\\fullstack\\lib\\site-packages\\pytorch_lightning\\utilities\\distributed.py:49: UserWarning: GPU available but not used. Set the --gpus flag when calling the script.\n",
      "  warnings.warn(*args, **kwargs)\n",
      "\n",
      "  | Name          | Type     | Params\n",
      "-------------------------------------------\n",
      "0 | model         | MLP      | 936 K \n",
      "1 | model.dropout | Dropout  | 0     \n",
      "2 | model.fc1     | Linear   | 803 K \n",
      "3 | model.fc2     | Linear   | 131 K \n",
      "4 | model.fc3     | Linear   | 1.3 K \n",
      "5 | train_acc     | Accuracy | 0     \n",
      "6 | val_acc       | Accuracy | 0     \n",
      "7 | test_acc      | Accuracy | 0     \n",
      "-------------------------------------------\n",
      "936 K     Trainable params\n",
      "0         Non-trainable params\n",
      "936 K     Total params\n"
     ]
    }
   ],
   "metadata": {}
  },
  {
   "cell_type": "code",
   "execution_count": 6,
   "source": [
    "!python training/run_experiment.py --max_epochs=3 --gpus=1"
   ],
   "outputs": [
    {
     "output_type": "stream",
     "name": "stdout",
     "text": [
      "--------------------------------------------------------------------------------\n",
      "DATALOADER:0 TEST RESULTS\n",
      "{'test_acc': tensor(0.9727, device='cuda:0')}\n",
      "--------------------------------------------------------------------------------\n"
     ]
    },
    {
     "output_type": "stream",
     "name": "stderr",
     "text": [
      "GPU available: True, used: True\n",
      "TPU available: None, using: 0 TPU cores\n",
      "LOCAL_RANK: 0 - CUDA_VISIBLE_DEVICES: [0,1]\n",
      "\n",
      "  | Name          | Type     | Params\n",
      "-------------------------------------------\n",
      "0 | model         | MLP      | 936 K \n",
      "1 | model.dropout | Dropout  | 0     \n",
      "2 | model.fc1     | Linear   | 803 K \n",
      "3 | model.fc2     | Linear   | 131 K \n",
      "4 | model.fc3     | Linear   | 1.3 K \n",
      "5 | train_acc     | Accuracy | 0     \n",
      "6 | val_acc       | Accuracy | 0     \n",
      "7 | test_acc      | Accuracy | 0     \n",
      "-------------------------------------------\n",
      "936 K     Trainable params\n",
      "0         Non-trainable params\n",
      "936 K     Total params\n"
     ]
    }
   ],
   "metadata": {}
  },
  {
   "cell_type": "code",
   "execution_count": 7,
   "source": [
    "!python training/run_experiment.py --data_class=MNIST --model_class=MLP --max_epochs=5 --fc1=128 --fc2=256 --gpus=0,"
   ],
   "outputs": [
    {
     "output_type": "stream",
     "name": "stdout",
     "text": [
      "--------------------------------------------------------------------------------\n",
      "DATALOADER:0 TEST RESULTS\n",
      "{'test_acc': tensor(0.9659, device='cuda:0')}\n",
      "--------------------------------------------------------------------------------\n"
     ]
    },
    {
     "output_type": "stream",
     "name": "stderr",
     "text": [
      "GPU available: True, used: True\n",
      "TPU available: None, using: 0 TPU cores\n",
      "LOCAL_RANK: 0 - CUDA_VISIBLE_DEVICES: [0,1]\n",
      "\n",
      "  | Name          | Type     | Params\n",
      "-------------------------------------------\n",
      "0 | model         | MLP      | 136 K \n",
      "1 | model.dropout | Dropout  | 0     \n",
      "2 | model.fc1     | Linear   | 100 K \n",
      "3 | model.fc2     | Linear   | 33.0 K\n",
      "4 | model.fc3     | Linear   | 2.6 K \n",
      "5 | train_acc     | Accuracy | 0     \n",
      "6 | val_acc       | Accuracy | 0     \n",
      "7 | test_acc      | Accuracy | 0     \n",
      "-------------------------------------------\n",
      "136 K     Trainable params\n",
      "0         Non-trainable params\n",
      "136 K     Total params\n"
     ]
    }
   ],
   "metadata": {}
  },
  {
   "cell_type": "markdown",
   "source": [
    "## Homework"
   ],
   "metadata": {}
  },
  {
   "cell_type": "code",
   "execution_count": 8,
   "source": [
    "!python training/run_experiment.py --model_class=MLP --data_class=MNIST --max_epochs=5 --gpus=1"
   ],
   "outputs": [
    {
     "output_type": "stream",
     "name": "stdout",
     "text": [
      "--------------------------------------------------------------------------------\n",
      "DATALOADER:0 TEST RESULTS\n",
      "{'test_acc': tensor(0.9765, device='cuda:0')}\n",
      "--------------------------------------------------------------------------------\n"
     ]
    },
    {
     "output_type": "stream",
     "name": "stderr",
     "text": [
      "GPU available: True, used: True\n",
      "TPU available: None, using: 0 TPU cores\n",
      "LOCAL_RANK: 0 - CUDA_VISIBLE_DEVICES: [0,1]\n",
      "\n",
      "  | Name          | Type     | Params\n",
      "-------------------------------------------\n",
      "0 | model         | MLP      | 936 K \n",
      "1 | model.dropout | Dropout  | 0     \n",
      "2 | model.fc1     | Linear   | 803 K \n",
      "3 | model.fc2     | Linear   | 131 K \n",
      "4 | model.fc3     | Linear   | 1.3 K \n",
      "5 | train_acc     | Accuracy | 0     \n",
      "6 | val_acc       | Accuracy | 0     \n",
      "7 | test_acc      | Accuracy | 0     \n",
      "-------------------------------------------\n",
      "936 K     Trainable params\n",
      "0         Non-trainable params\n",
      "936 K     Total params\n"
     ]
    }
   ],
   "metadata": {}
  },
  {
   "cell_type": "code",
   "execution_count": 9,
   "source": [
    "!python training/run_experiment.py --model_class=MLP --data_class=MNIST --max_epochs=5 --gpus=1 --fc1=4 --fc2=8"
   ],
   "outputs": [
    {
     "output_type": "stream",
     "name": "stdout",
     "text": [
      "--------------------------------------------------------------------------------\n",
      "DATALOADER:0 TEST RESULTS\n",
      "{'test_acc': tensor(0.5452, device='cuda:0')}\n",
      "--------------------------------------------------------------------------------\n"
     ]
    },
    {
     "output_type": "stream",
     "name": "stderr",
     "text": [
      "GPU available: True, used: True\n",
      "TPU available: None, using: 0 TPU cores\n",
      "LOCAL_RANK: 0 - CUDA_VISIBLE_DEVICES: [0,1]\n",
      "\n",
      "  | Name          | Type     | Params\n",
      "-------------------------------------------\n",
      "0 | model         | MLP      | 3.3 K \n",
      "1 | model.dropout | Dropout  | 0     \n",
      "2 | model.fc1     | Linear   | 3.1 K \n",
      "3 | model.fc2     | Linear   | 40    \n",
      "4 | model.fc3     | Linear   | 90    \n",
      "5 | train_acc     | Accuracy | 0     \n",
      "6 | val_acc       | Accuracy | 0     \n",
      "7 | test_acc      | Accuracy | 0     \n",
      "-------------------------------------------\n",
      "3.3 K     Trainable params\n",
      "0         Non-trainable params\n",
      "3.3 K     Total params\n"
     ]
    }
   ],
   "metadata": {}
  },
  {
   "cell_type": "code",
   "execution_count": 10,
   "source": [
    "!python training/run_experiment.py --model_class=MLP --data_class=MNIST --max_epochs=5 --gpus=1 --fc1=128 --fc2=64"
   ],
   "outputs": [
    {
     "output_type": "stream",
     "name": "stdout",
     "text": [
      "--------------------------------------------------------------------------------"
     ]
    },
    {
     "output_type": "stream",
     "name": "stderr",
     "text": [
      "GPU available: True, used: True\n",
      "TPU available: None, using: 0 TPU cores\n",
      "LOCAL_RANK: 0 - CUDA_VISIBLE_DEVICES: [0,1]\n",
      "\n",
      "  | Name          | Type     | Params\n",
      "-------------------------------------------\n",
      "0 | model         | MLP      | 109 K \n",
      "1 | model.dropout | Dropout  | 0     \n",
      "2 | model.fc1     | Linear   | 100 K \n",
      "3 | model.fc2     | Linear   | 8.3 K \n",
      "4 | model.fc3     | Linear   | 650   \n",
      "5 | train_acc     | Accuracy | 0     \n",
      "6 | val_acc       | Accuracy | 0     \n",
      "7 | test_acc      | Accuracy | 0     \n",
      "-------------------------------------------\n",
      "109 K     Trainable params\n",
      "0         Non-trainable params\n",
      "109 K     Total params\n"
     ]
    },
    {
     "output_type": "stream",
     "name": "stdout",
     "text": [
      "\n",
      "DATALOADER:0 TEST RESULTS\n",
      "{'test_acc': tensor(0.9643, device='cuda:0')}\n",
      "--------------------------------------------------------------------------------\n"
     ]
    }
   ],
   "metadata": {}
  },
  {
   "cell_type": "code",
   "execution_count": null,
   "source": [],
   "outputs": [],
   "metadata": {}
  }
 ],
 "metadata": {
  "orig_nbformat": 4,
  "language_info": {
   "name": "python",
   "version": "3.6.13",
   "mimetype": "text/x-python",
   "codemirror_mode": {
    "name": "ipython",
    "version": 3
   },
   "pygments_lexer": "ipython3",
   "nbconvert_exporter": "python",
   "file_extension": ".py"
  },
  "kernelspec": {
   "name": "python3",
   "display_name": "Python 3.6.13 64-bit (conda)"
  },
  "interpreter": {
   "hash": "1e551b6a22fd625067fb1415328d7ba5d6baf5b4608aac5a3a3a1456cda1c246"
  }
 },
 "nbformat": 4,
 "nbformat_minor": 2
}